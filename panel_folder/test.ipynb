{
 "cells": [
  {
   "cell_type": "code",
   "execution_count": 7,
   "metadata": {},
   "outputs": [
    {
     "ename": "SyntaxError",
     "evalue": "invalid syntax (580145212.py, line 54)",
     "output_type": "error",
     "traceback": [
      "\u001b[1;36m  File \u001b[1;32m\"C:\\Users\\samue\\AppData\\Local\\Temp\\ipykernel_19892\\580145212.py\"\u001b[1;36m, line \u001b[1;32m54\u001b[0m\n\u001b[1;33m    live_room =\u001b[0m\n\u001b[1;37m                ^\u001b[0m\n\u001b[1;31mSyntaxError\u001b[0m\u001b[1;31m:\u001b[0m invalid syntax\n"
     ]
    }
   ],
   "source": [
    "import numpy as np\n",
    "import pyroomacoustics as pra\n",
    "import matplotlib.pyplot as plt\n",
    "import scipy.signal as signal\n",
    "import panel as pn\n",
    "import param\n",
    "import holoviews as hv\n",
    "from response_calculations import freq_resp, compute_rir, calculate_responses\n",
    "\n",
    "pn.extension()\n",
    "pn.config.comms = 'vscode'\n",
    "\n",
    "input_dim = pn.widgets.LiteralInput(name=\"Room dimensions\", value=[5, 4, 3])\n",
    "input_absorption = pn.widgets.FloatSlider(name=\"Absorption coefficient\", start=0, end=1, value=0.5, step=0.1)\n",
    "\n",
    "input_mic_pos = pn.widgets.LiteralInput(name=\"Mic position\", value=[2.5, 2, 1])\n",
    "\n",
    "input_src_pos = pn.widgets.LiteralInput(name=\"Source position\", value=[1, 1, 1.5])\n",
    "\n",
    "class Room(param.Parameterized):\n",
    "    room_dim = param.List(default=[5, 5, 5])\n",
    "    absorption = param.Number(default=0.5)\n",
    "\n",
    "    @param.depends('room_dim', watch=True)\n",
    "    def update_room_dim(self):\n",
    "        self.room_dim = input_dim.value\n",
    "\n",
    "    @param.depends('absorption', watch=True)\n",
    "    def update_absorption(self):\n",
    "        self.absorption = input_absorption.value\n",
    "\n",
    "class Mic(param.Parameterized):\n",
    "    mic_pos = param.List(default=[1, 1, 1])\n",
    "\n",
    "    @param.depends('mic_pos', watch=True)\n",
    "    def update_mic_pos(self):\n",
    "        self.mic_pos = input_mic_pos.value\n",
    "\n",
    "class Src(param.Parameterized):\n",
    "    src_pos = param.List(default=[1, 1, 1])\n",
    "\n",
    "    @param.depends('src_pos', watch=True)\n",
    "    def update_src_pos(self):\n",
    "        self.src_pos = input_src_pos.value\n",
    "\n",
    "room = Room()\n",
    "\n",
    "\n",
    "\n",
    "\n",
    "input = pn.Column(input_dim, input_absorption, input_mic_pos, input_src_pos)\n",
    "output1 = pn.pane.Markdown(\"## Room\")\n",
    "#output 2 =\n",
    "output2 = \n",
    "output = pn.Column(output1, output2)\n",
    "output = pn.Column(input, output)\n",
    "APP = pn.Row(input, output)\n",
    "APP.show()"
   ]
  }
 ],
 "metadata": {
  "kernelspec": {
   "display_name": "base",
   "language": "python",
   "name": "python3"
  },
  "language_info": {
   "codemirror_mode": {
    "name": "ipython",
    "version": 3
   },
   "file_extension": ".py",
   "mimetype": "text/x-python",
   "name": "python",
   "nbconvert_exporter": "python",
   "pygments_lexer": "ipython3",
   "version": "3.9.13"
  },
  "orig_nbformat": 4
 },
 "nbformat": 4,
 "nbformat_minor": 2
}
