{
 "cells": [
  {
   "cell_type": "code",
   "execution_count": null,
   "metadata": {},
   "outputs": [],
   "source": [
    "import numpy as np\n",
    "import pyroomacoustics as pra\n",
    "import matplotlib.pyplot as plt\n",
    "import scipy.signal as signal\n",
    "import panel as pn\n",
    "import holoviews as hv\n",
    "from response_calculations import freq_resp, compute_rir, calculate_responses\n",
    "\n",
    "pn.extension()\n",
    "\n",
    "input_dim = pn.widgets.ArrayInput(name=\"Room dimensions\", value=[5, 4, 3], type=np.float64)\n",
    "input_absorption = pn.widgets.FloatSlider(name=\"Absorption coefficient\", start=0, end=1, value=0.5, step=0.1)\n",
    "\n",
    "room_dim = [5, 4, 3]\n",
    "absorption = 0.5\n",
    "room = pra.ShoeBox(room_dim, fs=16000, absorption=absorption, max_order=3)\n",
    "\n",
    "\n",
    "mic_positions = {\n",
    "    \"mic_1\": [2.5, 2, 1],\n",
    "    \"mic_2\": [2.5, 2.5, 1],\n",
    "    \"mic_3\": [2.5, 3, 1]\n",
    "}\n",
    "\n",
    "src_positions = {\n",
    "    \"src_1\": [1, 1, 1.5],\n",
    "    \"src_2\": [3, 1, 1.5],\n",
    "    \"src_3\": [2, 1, 1.5]\n",
    "}\n",
    "\n",
    "room = compute_rir(room_dim, absorption, 3, mic_positions, src_positions)\n",
    "\n",
    "freq_responses = calculate_responses(room, mic_positions, src_positions)"
   ]
  }
 ],
 "metadata": {
  "language_info": {
   "name": "python"
  },
  "orig_nbformat": 4
 },
 "nbformat": 4,
 "nbformat_minor": 2
}
